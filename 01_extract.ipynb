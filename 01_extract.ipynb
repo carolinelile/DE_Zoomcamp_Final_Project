{
 "cells": [
  {
   "cell_type": "code",
   "execution_count": 1,
   "id": "6f2874dd-36d5-444c-871d-a9dfa0dac386",
   "metadata": {},
   "outputs": [],
   "source": [
    "import pyspark\n",
    "from pyspark.sql import SparkSession"
   ]
  },
  {
   "cell_type": "code",
   "execution_count": 2,
   "id": "da03f3ce-4518-4e2c-bd3c-afb15e1e84ea",
   "metadata": {},
   "outputs": [
    {
     "name": "stderr",
     "output_type": "stream",
     "text": [
      "Setting default log level to \"WARN\".\n",
      "To adjust logging level use sc.setLogLevel(newLevel). For SparkR, use setLogLevel(newLevel).\n",
      "25/04/13 04:40:47 WARN NativeCodeLoader: Unable to load native-hadoop library for your platform... using builtin-java classes where applicable\n"
     ]
    }
   ],
   "source": [
    "spark = SparkSession.builder \\\n",
    "    .master(\"local[*]\") \\\n",
    "    .appName('test') \\\n",
    "    .getOrCreate()"
   ]
  },
  {
   "cell_type": "code",
   "execution_count": 54,
   "id": "669db2ca-2f60-4566-ba0f-9c3159ba8afe",
   "metadata": {},
   "outputs": [],
   "source": [
    "df = spark.read \\\n",
    "     .option(\"header\", \"true\") \\\n",
    "     .csv(\"JC-202001-citibike-tripdata.csv\")"
   ]
  },
  {
   "cell_type": "code",
   "execution_count": 55,
   "id": "311d3295-0f02-4c2b-b6f4-9a09c299b85a",
   "metadata": {},
   "outputs": [
    {
     "name": "stdout",
     "output_type": "stream",
     "text": [
      "+------------+--------------------+--------------------+----------------+--------------------+----------------------+-----------------------+--------------+----------------+--------------------+---------------------+------+----------+----------+------+\n",
      "|tripduration|           starttime|            stoptime|start station id|  start station name|start station latitude|start station longitude|end station id|end station name|end station latitude|end station longitude|bikeid|  usertype|birth year|gender|\n",
      "+------------+--------------------+--------------------+----------------+--------------------+----------------------+-----------------------+--------------+----------------+--------------------+---------------------+------+----------+----------+------+\n",
      "|         226|2020-01-01 00:04:...|2020-01-01 00:08:...|            3186|       Grove St PATH|     40.71958611647166|     -74.04311746358871|          3211|      Newark Ave|         40.72152515|        -74.046304543| 29444|Subscriber|      1984|     2|\n",
      "|         377|2020-01-01 00:16:...|2020-01-01 00:22:...|            3186|       Grove St PATH|     40.71958611647166|     -74.04311746358871|          3269| Brunswick & 6th|   40.72601172964625|   -74.05038893222809| 26305|Subscriber|      1989|     2|\n",
      "|         288|2020-01-01 00:17:...|2020-01-01 00:22:...|            3186|       Grove St PATH|     40.71958611647166|     -74.04311746358871|          3269| Brunswick & 6th|   40.72601172964625|   -74.05038893222809| 29268|  Customer|      1989|     1|\n",
      "|         435|2020-01-01 00:32:...|2020-01-01 00:39:...|            3195|             Sip Ave|     40.73089709786179|     -74.06391263008118|          3280|     Astor Place|   40.71928220070702|   -74.07126188278198| 29278|  Customer|      1969|     0|\n",
      "|         231|2020-01-01 00:46:...|2020-01-01 00:50:...|            3186|       Grove St PATH|     40.71958611647166|     -74.04311746358871|          3276|Marin Light Rail|   40.71458403535893|   -74.04281705617905| 29276|Subscriber|      1983|     2|\n",
      "|         437|2020-01-01 00:47:...|2020-01-01 00:54:...|            3199|        Newport Pkwy|            40.7287448|            -74.0321082|          3639|      Harborside|          40.7192517|           -74.034234| 26261|Subscriber|      1990|     1|\n",
      "|         438|2020-01-01 00:59:...|2020-01-01 01:06:...|            3792|Columbus Dr at Ex...|              40.71687|              -74.03281|          3638|   Washington St|          40.7242941|          -74.0354826| 29120|  Customer|      1969|     0|\n",
      "|         403|2020-01-01 00:59:...|2020-01-01 01:06:...|            3792|Columbus Dr at Ex...|              40.71687|              -74.03281|          3638|   Washington St|          40.7242941|          -74.0354826| 26182|  Customer|      1969|     0|\n",
      "|         395|2020-01-01 00:59:...|2020-01-01 01:06:...|            3792|Columbus Dr at Ex...|              40.71687|              -74.03281|          3638|   Washington St|          40.7242941|          -74.0354826| 29601|  Customer|      1969|     0|\n",
      "|         423|2020-01-01 00:59:...|2020-01-01 01:06:...|            3792|Columbus Dr at Ex...|              40.71687|              -74.03281|          3638|   Washington St|          40.7242941|          -74.0354826| 26268|  Customer|      1969|     0|\n",
      "|        1227|2020-01-01 01:07:...|2020-01-01 01:27:...|            3186|       Grove St PATH|     40.71958611647166|     -74.04311746358871|          3280|     Astor Place|   40.71928220070702|   -74.07126188278198| 29467|Subscriber|      1976|     1|\n",
      "|         360|2020-01-01 01:09:...|2020-01-01 01:15:...|            3185|           City Hall|            40.7177325|             -74.043845|          3209|    Brunswick St|          40.7241765|          -74.0506564| 29290|Subscriber|      1984|     1|\n",
      "|         478|2020-01-01 01:12:...|2020-01-01 01:20:...|            3792|Columbus Dr at Ex...|              40.71687|              -74.03281|          3276|Marin Light Rail|   40.71458403535893|   -74.04281705617905| 26155|Subscriber|      1963|     1|\n",
      "|         446|2020-01-01 01:13:...|2020-01-01 01:20:...|            3792|Columbus Dr at Ex...|              40.71687|              -74.03281|          3276|Marin Light Rail|   40.71458403535893|   -74.04281705617905| 29673|Subscriber|      1964|     2|\n",
      "|         583|2020-01-01 01:15:...|2020-01-01 01:25:...|            3275|      Columbus Drive|     40.71835519823214|     -74.03891444206238|          3199|    Newport Pkwy|          40.7287448|          -74.0321082| 26250|  Customer|      1990|     2|\n",
      "|         343|2020-01-01 01:26:...|2020-01-01 01:32:...|            3792|Columbus Dr at Ex...|              40.71687|              -74.03281|          3276|Marin Light Rail|   40.71458403535893|   -74.04281705617905| 26283|Subscriber|      1980|     1|\n",
      "|         198|2020-01-01 01:27:...|2020-01-01 01:30:...|            3186|       Grove St PATH|     40.71958611647166|     -74.04311746358871|          3270| Jersey & 6th St|   40.72528910781132|   -74.04557168483734| 29456|Subscriber|      1960|     1|\n",
      "|         324|2020-01-01 01:28:...|2020-01-01 01:33:...|            3639|          Harborside|            40.7192517|             -74.034234|          3272|    Jersey & 3rd|   40.72333158646436|   -74.04595255851744| 26219|  Customer|      1992|     1|\n",
      "|         406|2020-01-01 01:28:...|2020-01-01 01:35:...|            3639|          Harborside|            40.7192517|             -74.034234|          3272|    Jersey & 3rd|   40.72333158646436|   -74.04595255851744| 26301|Subscriber|      1993|     2|\n",
      "|         310|2020-01-01 01:33:...|2020-01-01 01:38:...|            3195|             Sip Ave|     40.73089709786179|     -74.06391263008118|          3678|   Fairmount Ave|   40.72572613742557|   -74.07195925712585| 29629|Subscriber|      1977|     1|\n",
      "+------------+--------------------+--------------------+----------------+--------------------+----------------------+-----------------------+--------------+----------------+--------------------+---------------------+------+----------+----------+------+\n",
      "only showing top 20 rows\n",
      "\n"
     ]
    }
   ],
   "source": [
    "df.show()"
   ]
  },
  {
   "cell_type": "code",
   "execution_count": 5,
   "id": "89f005a3-8557-4a9d-85c2-255d9c20ae79",
   "metadata": {},
   "outputs": [
    {
     "data": {
      "text/plain": [
       "StructType([StructField('ride_id', StringType(), True), StructField('rideable_type', StringType(), True), StructField('started_at', StringType(), True), StructField('ended_at', StringType(), True), StructField('start_station_name', StringType(), True), StructField('start_station_id', StringType(), True), StructField('end_station_name', StringType(), True), StructField('end_station_id', StringType(), True), StructField('start_lat', StringType(), True), StructField('start_lng', StringType(), True), StructField('end_lat', StringType(), True), StructField('end_lng', StringType(), True), StructField('member_casual', StringType(), True)])"
      ]
     },
     "execution_count": 5,
     "metadata": {},
     "output_type": "execute_result"
    }
   ],
   "source": [
    "df.schema"
   ]
  },
  {
   "cell_type": "code",
   "execution_count": 68,
   "id": "08ebe0e4-feee-452d-891b-81a00f02bda7",
   "metadata": {},
   "outputs": [],
   "source": [
    "import pandas as pd\n",
    "df_pd = pd.read_csv(\"JC-202102-citibike-tripdata.csv\")\n",
    "df_pd.dtypes\n",
    "\n",
    "from pyspark.sql import types"
   ]
  },
  {
   "cell_type": "code",
   "execution_count": 69,
   "id": "a4c8f772-1012-414d-a47c-9451e51474d9",
   "metadata": {},
   "outputs": [
    {
     "data": {
      "text/plain": [
       "StructType([StructField('ride_id', StringType(), True), StructField('rideable_type', StringType(), True), StructField('started_at', StringType(), True), StructField('ended_at', StringType(), True), StructField('start_station_name', StringType(), True), StructField('start_station_id', StringType(), True), StructField('end_station_name', StringType(), True), StructField('end_station_id', StringType(), True), StructField('start_lat', DoubleType(), True), StructField('start_lng', DoubleType(), True), StructField('end_lat', DoubleType(), True), StructField('end_lng', DoubleType(), True), StructField('member_casual', StringType(), True)])"
      ]
     },
     "execution_count": 69,
     "metadata": {},
     "output_type": "execute_result"
    }
   ],
   "source": [
    "spark.createDataFrame(df_pd).schema"
   ]
  },
  {
   "cell_type": "code",
   "execution_count": 64,
   "id": "8b40d629-d43a-4adc-9178-bdf6b28fa4c7",
   "metadata": {},
   "outputs": [
    {
     "name": "stdout",
     "output_type": "stream",
     "text": [
      "--2025-04-13 05:42:11--  https://s3.amazonaws.com/tripdata/JC-202102-citibike-tripdata.csv.zip\n",
      "Resolving s3.amazonaws.com (s3.amazonaws.com)... 52.216.244.70, 52.216.215.72, 52.216.220.32, ...\n",
      "Connecting to s3.amazonaws.com (s3.amazonaws.com)|52.216.244.70|:443... connected.\n",
      "HTTP request sent, awaiting response... 200 OK\n",
      "Length: 145668 (142K) [application/zip]\n",
      "Saving to: ‘JC-202102-citibike-tripdata.csv.zip’\n",
      "\n",
      "JC-202102-citibike- 100%[===================>] 142.25K  --.-KB/s    in 0.08s   \n",
      "\n",
      "2025-04-13 05:42:12 (1.77 MB/s) - ‘JC-202102-citibike-tripdata.csv.zip’ saved [145668/145668]\n",
      "\n"
     ]
    }
   ],
   "source": [
    "!wget https://s3.amazonaws.com/tripdata/JC-202102-citibike-tripdata.csv.zip"
   ]
  },
  {
   "cell_type": "code",
   "execution_count": 9,
   "id": "598e449d-5efc-449d-b637-2023a6158403",
   "metadata": {},
   "outputs": [
    {
     "name": "stdout",
     "output_type": "stream",
     "text": [
      "01_extract.ipynb\t    202401-citibike-tripdata.csv\n",
      "01_extract.py\t\t    202401-citibike-tripdata.csv.zip\n",
      "2017-citibike-tripdata.zip  __MACOSX\n"
     ]
    }
   ],
   "source": [
    "!ls"
   ]
  },
  {
   "cell_type": "code",
   "execution_count": 65,
   "id": "b0ea436c-4bf1-476e-b8d9-4248667efa85",
   "metadata": {},
   "outputs": [
    {
     "name": "stdout",
     "output_type": "stream",
     "text": [
      "Archive:  JC-202102-citibike-tripdata.csv.zip\n",
      "  inflating: JC-202102-citibike-tripdata.csv  \n",
      "  inflating: __MACOSX/._JC-202102-citibike-tripdata.csv  \n"
     ]
    }
   ],
   "source": [
    "!unzip JC-202102-citibike-tripdata.csv.zip"
   ]
  },
  {
   "cell_type": "code",
   "execution_count": 34,
   "id": "0e20ae0e-6a53-4413-ae59-21f696dd8e4c",
   "metadata": {},
   "outputs": [
    {
     "name": "stdout",
     "output_type": "stream",
     "text": [
      "01_extract.ipynb\t202401-citibike-tripdata.csv\n",
      "01_extract.py\t\tJC-201912-citibike-tripdata.csv\n",
      "2017-citibike-tripdata\tJC-201912-citibike-tripdata.csv.zip\n",
      "2019-citibike-tripdata\tJC-202001-citibike-tripdata.csv\n",
      "2020-citibike-tripdata\tJC-202001-citibike-tripdata.csv.zip\n",
      "2021-citibike-tripdata\t__MACOSX\n"
     ]
    }
   ],
   "source": [
    "!ls"
   ]
  },
  {
   "cell_type": "code",
   "execution_count": 66,
   "id": "de11959c-bb95-45bb-8388-032b3790fd71",
   "metadata": {},
   "outputs": [],
   "source": [
    "df = spark.read \\\n",
    "     .option(\"header\", \"true\") \\\n",
    "     .csv(\"JC-202102-citibike-tripdata.csv\")"
   ]
  },
  {
   "cell_type": "code",
   "execution_count": 67,
   "id": "b3a09d55-71d0-46d2-a201-98d3ca4284fe",
   "metadata": {},
   "outputs": [
    {
     "name": "stdout",
     "output_type": "stream",
     "text": [
      "+----------------+-------------+-------------------+-------------------+--------------------+----------------+--------------------+--------------+---------+----------+-----------------+------------------+-------------+\n",
      "|         ride_id|rideable_type|         started_at|           ended_at|  start_station_name|start_station_id|    end_station_name|end_station_id|start_lat| start_lng|          end_lat|           end_lng|member_casual|\n",
      "+----------------+-------------+-------------------+-------------------+--------------------+----------------+--------------------+--------------+---------+----------+-----------------+------------------+-------------+\n",
      "|121DD7DD23CB1335|  docked_bike|2021-02-03 23:11:28|2021-02-03 23:18:28|Hoboken Ave at Mo...|           JC105|     Christ Hospital|         JC034|40.735208|-74.046964|        40.734786|        -74.050444|       member|\n",
      "|FD73FB85F008349D|  docked_bike|2021-02-27 16:34:05|2021-02-27 16:56:40|        Newport Pkwy|           JC008|    Marin Light Rail|         JC013|40.728744|-74.032108|40.71458403535893|-74.04281705617905|       member|\n",
      "|39F9E6663CB5FDF6|  docked_bike|2021-02-26 23:16:04|2021-02-26 23:22:25|      Journal Square|           JC103|Baldwin at Montgo...|         JC020| 40.73367|  -74.0625|       40.7236589|       -74.0641943|       member|\n",
      "|A64745CB0792EC6F|  docked_bike|2021-02-24 16:51:50|2021-02-24 17:16:09|Hoboken Ave at Mo...|           JC105|Hoboken Ave at Mo...|         JC105|40.735208|-74.046963|40.73520838045357|-74.04696375131607|       casual|\n",
      "|75CC76EB9543764A|  docked_bike|2021-02-24 20:44:16|2021-02-24 20:44:46|Hoboken Ave at Mo...|           JC105|Hoboken Ave at Mo...|         JC105|40.735208|-74.046963|40.73520838045357|-74.04696375131607|       member|\n",
      "|9E512D211620A136|  docked_bike|2021-02-12 20:03:24|2021-02-12 20:18:34|        Newport Pkwy|           JC008|         Paulus Hook|         JC002|40.728744|-74.032108|       40.7141454|       -74.0335519|       casual|\n",
      "|381EF1361C1A6DB8|  docked_bike|2021-02-16 19:39:39|2021-02-16 19:41:59|          Newark Ave|           JC032|    Monmouth and 6th|         JC075|40.721525|-74.046305|        40.725685|         -74.04879|       member|\n",
      "|928FA29F84E99326|  docked_bike|2021-02-12 18:14:07|2021-02-12 18:19:49|        Newport Pkwy|           JC008|           Warren St|         JC006|40.728744|-74.032108|       40.7211236|      -74.03805095|       member|\n",
      "|A7E2FCAC8E229A75|  docked_bike|2021-02-16 05:17:11|2021-02-16 05:22:09|        Newport Pkwy|           JC008|           Warren St|         JC006|40.728744|-74.032108|       40.7211236|      -74.03805095|       member|\n",
      "|A591312D7A1533DD|  docked_bike|2021-02-10 11:44:47|2021-02-10 11:52:30|        Newport Pkwy|           JC008|           Warren St|         JC006|40.728744|-74.032108|       40.7211236|      -74.03805095|       member|\n",
      "|DA917A5A770BB921|  docked_bike|2021-02-25 05:55:02|2021-02-25 06:01:45|Hoboken Ave at Mo...|           JC105|        Newport PATH|         JC066|40.735208|-74.046963|       40.7272235|       -74.0337589|       casual|\n",
      "|91EE894EDB054D1D|  docked_bike|2021-02-25 14:22:40|2021-02-25 15:05:18|Hoboken Ave at Mo...|           JC105|        Newport PATH|         JC066|40.735208|-74.046963|       40.7272235|       -74.0337589|       member|\n",
      "|00BA19D55F5C4D5F|  docked_bike|2021-02-27 15:44:07|2021-02-27 15:59:40|        Newport Pkwy|           JC008|      Van Vorst Park|         JC035|40.728744|-74.032108|      40.71848892|     -74.047726625|       member|\n",
      "|C29080C1B25BF636|  docked_bike|2021-02-17 16:06:36|2021-02-17 16:08:58|   5 Corners Library|           JC018|             Hilltop|         JC019|40.734961|-74.059503|       40.7311689|       -74.0575736|       member|\n",
      "|8E3741BD012732D8|  docked_bike|2021-02-16 19:46:39|2021-02-16 19:56:24|          Newark Ave|           JC032|            Grand St|         JC102|40.721525|-74.046305|        40.715178|        -74.037683|       member|\n",
      "|532195C2DDA105CE|  docked_bike|2021-02-16 13:36:42|2021-02-16 14:03:05|        Newport Pkwy|           JC008|     Jersey & 6th St|         JC027|40.728744|-74.032108|40.72528910781132|-74.04557168483734|       member|\n",
      "|ECCEA934882DE00C|  docked_bike|2021-02-07 22:58:13|2021-02-07 23:07:55|        Newport Pkwy|           JC008|     Jersey & 6th St|         JC027|40.728744|-74.032108|40.72528910781132|-74.04557168483734|       casual|\n",
      "|75334C6D460251F0|  docked_bike|2021-02-24 18:38:05|2021-02-24 18:45:14|   5 Corners Library|           JC018|        Brunswick St|         JC023|40.734961|-74.059503|       40.7241765|       -74.0506564|       member|\n",
      "|4214A9E07D15C564|  docked_bike|2021-02-15 13:00:21|2021-02-15 13:09:05|      Journal Square|           JC103|        Lincoln Park|         JC053| 40.73367|  -74.0625| 40.7246050998869|-74.07840594649315|       casual|\n",
      "|533977109CABC060|  docked_bike|2021-02-25 21:49:44|2021-02-25 21:59:03|       Washington St|           JC098|    Marin Light Rail|         JC013|40.724294|-74.035483|        40.714584|        -74.042817|       member|\n",
      "+----------------+-------------+-------------------+-------------------+--------------------+----------------+--------------------+--------------+---------+----------+-----------------+------------------+-------------+\n",
      "only showing top 20 rows\n",
      "\n"
     ]
    }
   ],
   "source": [
    "df.show()"
   ]
  },
  {
   "cell_type": "code",
   "execution_count": null,
   "id": "b77622d0-d4f1-4bcb-a069-db950dae432f",
   "metadata": {},
   "outputs": [],
   "source": []
  }
 ],
 "metadata": {
  "kernelspec": {
   "display_name": "Python 3 (ipykernel)",
   "language": "python",
   "name": "python3"
  },
  "language_info": {
   "codemirror_mode": {
    "name": "ipython",
    "version": 3
   },
   "file_extension": ".py",
   "mimetype": "text/x-python",
   "name": "python",
   "nbconvert_exporter": "python",
   "pygments_lexer": "ipython3",
   "version": "3.12.7"
  }
 },
 "nbformat": 4,
 "nbformat_minor": 5
}
